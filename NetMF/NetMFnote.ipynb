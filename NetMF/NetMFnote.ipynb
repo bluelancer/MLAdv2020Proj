{
 "cells": [
  {
   "cell_type": "code",
   "execution_count": 1,
   "metadata": {
    "collapsed": true
   },
   "outputs": [
    {
     "name": "stderr",
     "output_type": "stream",
     "text": [
      "Using backend: pytorch\n"
     ]
    }
   ],
   "source": [
    "import torch\n",
    "from NetMF import NetMF\n",
    "from Netmfutils import Netmfutils\n",
    "import scipy.io\n",
    "import numpy as np\n",
    "import networkx as nx\n",
    "import cogdl.datasets as cd\n",
    "import scipy.sparse as sp"
   ]
  },
  {
   "cell_type": "code",
   "execution_count": 2,
   "outputs": [],
   "source": [
    "if torch.cuda.is_available():\n",
    "        torch.cuda.set_device(0)\n",
    "\n",
    "import logging\n",
    "from cogdl.datasets import build_dataset\n",
    "\n",
    "logger = logging.getLogger(__name__)\n",
    "netutils = Netmfutils()"
   ],
   "metadata": {
    "collapsed": false,
    "pycharm": {
     "name": "#%%\n"
    }
   }
  },
  {
   "cell_type": "code",
   "execution_count": 3,
   "outputs": [],
   "source": [
    "Label_repo = \"dataset/blogcatalog.mat\"\n",
    "Rank = 256\n",
    "Dim = 128\n",
    "Window = 10\n",
    "Large_netmf = True\n",
    "Rand_Seed = 1\n",
    "Neg_sampling = 1\n",
    "\n",
    "# Start_train_ratio = 10\n",
    "# Stop_train_ratio = 90\n",
    "# Num_train_ratio = 9\n",
    "C = 1\n",
    "Num_split = 5\n",
    "Train_ratio = 80"
   ],
   "metadata": {
    "collapsed": false,
    "pycharm": {
     "name": "#%%\n"
    }
   }
  },
  {
   "cell_type": "code",
   "execution_count": 4,
   "outputs": [
    {
     "name": "stdout",
     "output_type": "stream",
     "text": [
      "(10312, 39) <class 'numpy.ndarray'> 0 1\n",
      "Running NetMF for a large window size...\n",
      "Eigen decomposition...\n",
      "Maximum eigenvalue %f, minimum eigenvalue %f 0.9999999999999989 0.19200283778553065\n",
      "Computing D^{-1/2}U..\n",
      "After filtering, max eigenvalue=%f, min eigenvalue=%f 0.9999999999999989 0.02376280928834499\n",
      "Computed DeepWalk matrix with %d non-zero elements 43359474\n",
      "(8249,) (2063,)\n",
      "(10312, 128) (10312, 39)\n",
      "(8249,) (2063,)\n",
      "(10312, 128) (10312, 39)\n",
      "(8249,) (2063,)\n",
      "(10312, 128) (10312, 39)\n",
      "(8249,) (2063,)\n",
      "(10312, 128) (10312, 39)\n",
      "(8249,) (2063,)\n",
      "(10312, 128) (10312, 39)\n",
      "%d fold validation, training ratio %f 5 0.8\n",
      "Average micro %.2f, Average macro %.2f 43.21805936542802 28.74779244436939\n"
     ]
    },
    {
     "name": "stderr",
     "output_type": "stream",
     "text": [
      "/usr/local/lib/python3.8/site-packages/sklearn/metrics/_classification.py:1492: UndefinedMetricWarning: F-score is ill-defined and being set to 0.0 in labels with no true nor predicted samples. Use `zero_division` parameter to control this behavior.\n",
      "  _warn_prf(\n"
     ]
    },
    {
     "data": {
      "text/plain": "([0.4342379958246347,\n  0.4441015089163237,\n  0.42798353909465026,\n  0.4349897889720898,\n  0.41959013546370266],\n [0.2891126114644688,\n  0.301037644299527,\n  0.27527778663597335,\n  0.2920992302400772,\n  0.2798623495784231])"
     },
     "execution_count": 4,
     "metadata": {},
     "output_type": "execute_result"
    }
   ],
   "source": [
    "\"\"\"\n",
    "# load dataset from .mat\n",
    "data_mat = scipy.io.loadmat(Label_repo)\n",
    "logger.info(\"Loading label from %s...\", Label_repo)\n",
    "# load label from .mat\n",
    "label_mat = netutils.load_label(file=Label_repo, variable_name=\"group\")\n",
    "logger.info(\"Label loaded!\")\n",
    "netmf_mat = NetMF(Dim,Window,Rank,Neg_sampling,Large_netmf)\n",
    "embedding_mat = netmf_mat.train(data_mat['network'],Graph_input = False)\n",
    "netutils.node_classification_loss(embedding_mat,\n",
    "                                  label_mat,\n",
    "                                  train_ratio=Train_ratio/100.,\n",
    "                                  n_splits=Num_split,\n",
    "                                  C=C,\n",
    "                                  random_state=Rand_Seed)\n",
    "\"\"\""
   ],
   "metadata": {
    "collapsed": false,
    "pycharm": {
     "name": "#%%\n"
    }
   }
  },
  {
   "cell_type": "code",
   "execution_count": 5,
   "outputs": [
    {
     "name": "stdout",
     "output_type": "stream",
     "text": [
      "(10312, 39)\n"
     ]
    }
   ],
   "source": [
    "dataset = cd.build_dataset_from_name('blogcatalog')\n",
    "data = dataset[0]\n",
    "G = nx.Graph()\n",
    "G.add_edges_from(data.edge_index.t().tolist())\n",
    "label_matrix = sp.csr_matrix(data.y).toarray().astype(np.int)\n",
    "print (label_matrix.shape)"
   ],
   "metadata": {
    "collapsed": false,
    "pycharm": {
     "name": "#%%\n"
    }
   }
  },
  {
   "cell_type": "code",
   "execution_count": 6,
   "outputs": [
    {
     "name": "stdout",
     "output_type": "stream",
     "text": [
      "Running NetMF for a large window size...\n",
      "Eigen decomposition...\n",
      "Maximum eigenvalue %f, minimum eigenvalue %f 0.9999999999999991 0.19200283778553026\n",
      "Computing D^{-1/2}U..\n",
      "After filtering, max eigenvalue=%f, min eigenvalue=%f 0.9999999999999991 0.023762809288344934\n",
      "Computed DeepWalk matrix with %d non-zero elements 43359474\n",
      "(8249,) (2063,)\n",
      "(10312, 128) (10312, 39)\n",
      "(8249,) (2063,)\n",
      "(10312, 128) (10312, 39)\n",
      "(8249,) (2063,)\n",
      "(10312, 128) (10312, 39)\n",
      "(8249,) (2063,)\n",
      "(10312, 128) (10312, 39)\n",
      "(8249,) (2063,)\n",
      "(10312, 128) (10312, 39)\n",
      "%d fold validation, training ratio %f 5 0.8\n",
      "Average micro %.2f, Average macro %.2f 43.21805936542802 28.74779244436939\n"
     ]
    },
    {
     "name": "stderr",
     "output_type": "stream",
     "text": [
      "/usr/local/lib/python3.8/site-packages/sklearn/metrics/_classification.py:1492: UndefinedMetricWarning: F-score is ill-defined and being set to 0.0 in labels with no true nor predicted samples. Use `zero_division` parameter to control this behavior.\n",
      "  _warn_prf(\n"
     ]
    },
    {
     "data": {
      "text/plain": "([0.4342379958246347,\n  0.4441015089163237,\n  0.42798353909465026,\n  0.4349897889720898,\n  0.41959013546370266],\n [0.2891126114644688,\n  0.301037644299527,\n  0.27527778663597335,\n  0.2920992302400772,\n  0.2798623495784231])"
     },
     "execution_count": 6,
     "metadata": {},
     "output_type": "execute_result"
    }
   ],
   "source": [
    "netmf = NetMF(Dim,Window,Rank,Neg_sampling,Large_netmf)\n",
    "embedding = netmf.train(G,Graph_input = True)\n",
    "netutils.node_classification_loss(embedding,\n",
    "                                  label_matrix,\n",
    "                                  train_ratio=Train_ratio/100.,\n",
    "                                  n_splits=Num_split,\n",
    "                                  C=C,\n",
    "                                  random_state=Rand_Seed)"
   ],
   "metadata": {
    "collapsed": false,
    "pycharm": {
     "name": "#%%\n"
    }
   }
  },
  {
   "cell_type": "code",
   "execution_count": 7,
   "outputs": [],
   "source": [
    "A_cog = sp.csr_matrix(nx.adjacency_matrix(G,nodelist=sorted(G.nodes())))\n",
    "A = data_mat['network']"
   ],
   "metadata": {
    "collapsed": false,
    "pycharm": {
     "name": "#%%\n"
    }
   }
  },
  {
   "cell_type": "code",
   "execution_count": 8,
   "outputs": [
    {
     "data": {
      "text/plain": "{0: 387692, 1: 14476}"
     },
     "execution_count": 8,
     "metadata": {},
     "output_type": "execute_result"
    }
   ],
   "source": [
    "unique_mat, counts_mat = np.unique(label_mat, return_counts=True)\n",
    "dict(zip(unique_mat, counts_mat))\n"
   ],
   "metadata": {
    "collapsed": false,
    "pycharm": {
     "name": "#%%\n"
    }
   }
  },
  {
   "cell_type": "code",
   "execution_count": 9,
   "outputs": [
    {
     "data": {
      "text/plain": "{0: 387692, 1: 14476}"
     },
     "execution_count": 9,
     "metadata": {},
     "output_type": "execute_result"
    }
   ],
   "source": [
    "unique_matrix, counts_matrix = np.unique(label_matrix, return_counts=True)\n",
    "dict(zip(unique_matrix, counts_matrix))\n",
    "# So we have the same label matrix"
   ],
   "metadata": {
    "collapsed": false,
    "pycharm": {
     "name": "#%%\n"
    }
   }
  },
  {
   "cell_type": "code",
   "execution_count": 10,
   "outputs": [
    {
     "data": {
      "text/plain": "{1.0: 667966}"
     },
     "execution_count": 10,
     "metadata": {},
     "output_type": "execute_result"
    }
   ],
   "source": [
    "unique_A_mat, counts_A_mat = np.unique(A.data, return_counts=True)\n",
    "dict(zip(unique_A_mat, counts_A_mat))"
   ],
   "metadata": {
    "collapsed": false,
    "pycharm": {
     "name": "#%%\n"
    }
   }
  },
  {
   "cell_type": "code",
   "execution_count": 11,
   "outputs": [
    {
     "data": {
      "text/plain": "{1: 667966}"
     },
     "execution_count": 11,
     "metadata": {},
     "output_type": "execute_result"
    }
   ],
   "source": [
    "unique_A_matrix, counts_A_matrix = np.unique(A_cog.data, return_counts=True)\n",
    "dict(zip(unique_A_matrix, counts_A_matrix))\n",
    "# So we have the differernt label matrix"
   ],
   "metadata": {
    "collapsed": false,
    "pycharm": {
     "name": "#%%\n"
    }
   }
  },
  {
   "cell_type": "code",
   "execution_count": 12,
   "outputs": [],
   "source": [
    "import matplotlib.pyplot as plt\n",
    "import matplotlib.cm as cm\n",
    "A_array = A.toarray()\n",
    "A_cog_array = A_cog.toarray()"
   ],
   "metadata": {
    "collapsed": false,
    "pycharm": {
     "name": "#%%\n"
    }
   }
  },
  {
   "cell_type": "code",
   "execution_count": 13,
   "outputs": [
    {
     "data": {
      "text/plain": "<Figure size 432x288 with 2 Axes>",
      "image/png": "[encoded data removed]"
     },
     "metadata": {
      "needs_background": "light"
     },
     "output_type": "display_data"
    }
   ],
   "source": [
    "fig = plt.figure()\n",
    "ax1 = fig.add_subplot(121)\n",
    "# Bilinear interpolation - this will look blurry\n",
    "ax1.imshow(A_array, interpolation='nearest', cmap=cm.Greys_r)\n",
    "\n",
    "ax2 = fig.add_subplot(122)\n",
    "# 'nearest' interpolation - faithful but blocky\n",
    "ax2.imshow(A_cog_array, interpolation='nearest', cmap=cm.Greys_r)\n",
    "\n",
    "plt.show()\n",
    "# So we have Same Adj Matrix."
   ],
   "metadata": {
    "collapsed": false,
    "pycharm": {
     "name": "#%%\n"
    }
   }
  },
  {
   "cell_type": "code",
   "execution_count": 6,
   "outputs": [
    {
     "ename": "KeyError",
     "evalue": "'cora'",
     "output_type": "error",
     "traceback": [
      "\u001B[0;31m---------------------------------------------------------------------------\u001B[0m",
      "\u001B[0;31mKeyError\u001B[0m                                  Traceback (most recent call last)",
      "\u001B[0;32m<ipython-input-6-9a83fe0a0b97>\u001B[0m in \u001B[0;36m<module>\u001B[0;34m\u001B[0m\n\u001B[0;32m----> 1\u001B[0;31m \u001B[0mdataset\u001B[0m \u001B[0;34m=\u001B[0m \u001B[0mcd\u001B[0m\u001B[0;34m.\u001B[0m\u001B[0mbuild_dataset_from_name\u001B[0m\u001B[0;34m(\u001B[0m\u001B[0;34m\"cora\"\u001B[0m\u001B[0;34m)\u001B[0m\u001B[0;34m\u001B[0m\u001B[0;34m\u001B[0m\u001B[0m\n\u001B[0m\u001B[1;32m      2\u001B[0m \u001B[0mdata\u001B[0m \u001B[0;34m=\u001B[0m \u001B[0mdataset\u001B[0m\u001B[0;34m[\u001B[0m\u001B[0;36m0\u001B[0m\u001B[0;34m]\u001B[0m\u001B[0;34m\u001B[0m\u001B[0;34m\u001B[0m\u001B[0m\n\u001B[1;32m      3\u001B[0m \u001B[0mdata\u001B[0m \u001B[0;34m=\u001B[0m \u001B[0mdataset\u001B[0m\u001B[0;34m[\u001B[0m\u001B[0;36m0\u001B[0m\u001B[0;34m]\u001B[0m\u001B[0;34m\u001B[0m\u001B[0;34m\u001B[0m\u001B[0m\n\u001B[1;32m      4\u001B[0m \u001B[0mG\u001B[0m \u001B[0;34m=\u001B[0m \u001B[0mnx\u001B[0m\u001B[0;34m.\u001B[0m\u001B[0mGraph\u001B[0m\u001B[0;34m(\u001B[0m\u001B[0;34m)\u001B[0m\u001B[0;34m\u001B[0m\u001B[0;34m\u001B[0m\u001B[0m\n\u001B[1;32m      5\u001B[0m \u001B[0mG\u001B[0m\u001B[0;34m.\u001B[0m\u001B[0madd_edges_from\u001B[0m\u001B[0;34m(\u001B[0m\u001B[0mdata\u001B[0m\u001B[0;34m.\u001B[0m\u001B[0medge_index\u001B[0m\u001B[0;34m.\u001B[0m\u001B[0mt\u001B[0m\u001B[0;34m(\u001B[0m\u001B[0;34m)\u001B[0m\u001B[0;34m.\u001B[0m\u001B[0mtolist\u001B[0m\u001B[0;34m(\u001B[0m\u001B[0;34m)\u001B[0m\u001B[0;34m)\u001B[0m\u001B[0;34m\u001B[0m\u001B[0;34m\u001B[0m\u001B[0m\n",
      "\u001B[0;32m/usr/local/lib/python3.8/site-packages/cogdl/datasets/__init__.py\u001B[0m in \u001B[0;36mbuild_dataset_from_name\u001B[0;34m(dataset)\u001B[0m\n\u001B[1;32m     72\u001B[0m \u001B[0;34m\u001B[0m\u001B[0m\n\u001B[1;32m     73\u001B[0m \u001B[0;32mdef\u001B[0m \u001B[0mbuild_dataset_from_name\u001B[0m\u001B[0;34m(\u001B[0m\u001B[0mdataset\u001B[0m\u001B[0;34m)\u001B[0m\u001B[0;34m:\u001B[0m\u001B[0;34m\u001B[0m\u001B[0;34m\u001B[0m\u001B[0m\n\u001B[0;32m---> 74\u001B[0;31m     \u001B[0;32mreturn\u001B[0m \u001B[0mDATASET_REGISTRY\u001B[0m\u001B[0;34m[\u001B[0m\u001B[0mdataset\u001B[0m\u001B[0;34m]\u001B[0m\u001B[0;34m(\u001B[0m\u001B[0;34m)\u001B[0m\u001B[0;34m\u001B[0m\u001B[0;34m\u001B[0m\u001B[0m\n\u001B[0m",
      "\u001B[0;31mKeyError\u001B[0m: 'cora'"
     ]
    }
   ],
   "source": [
    "dataset = cd.build_dataset_from_name(\"cora\")\n",
    "data = dataset[0]\n",
    "data = dataset[0]\n",
    "G = nx.Graph()\n",
    "G.add_edges_from(data.edge_index.t().tolist())\n",
    "label_matrix = sp.csr_matrix(data.y).toarray().astype(np.int)\n",
    "print (label_matrix.shape)"
   ],
   "metadata": {
    "collapsed": false,
    "pycharm": {
     "name": "#%%\n"
    }
   }
  },
  {
   "cell_type": "code",
   "execution_count": null,
   "outputs": [],
   "source": [
    "netmf = NetMF(Dim,Window,16384,Neg_sampling,Large_netmf)\n",
    "embedding = netmf.train(G,Graph_input = True)\n",
    "netutils.node_classification_loss(embedding,\n",
    "                                  label_matrix,\n",
    "                                  train_ratio=Train_ratio/100.,\n",
    "                                  n_splits=Num_split,\n",
    "                                  C=C,\n",
    "                                  random_state=Rand_Seed)"
   ],
   "metadata": {
    "collapsed": false,
    "pycharm": {
     "name": "#%%\n"
    }
   }
  },
  {
   "cell_type": "code",
   "execution_count": null,
   "outputs": [],
   "source": [],
   "metadata": {
    "collapsed": false,
    "pycharm": {
     "name": "#%%\n"
    }
   }
  }
 ],
 "metadata": {
  "kernelspec": {
   "name": "pycharm-4a14eed",
   "language": "python",
   "display_name": "PyCharm (MLAdv2020Proj)"
  },
  "language_info": {
   "codemirror_mode": {
    "name": "ipython",
    "version": 2
   },
   "file_extension": ".py",
   "mimetype": "text/x-python",
   "name": "python",
   "nbconvert_exporter": "python",
   "pygments_lexer": "ipython2",
   "version": "2.7.6"
  }
 },
 "nbformat": 4,
 "nbformat_minor": 0
}