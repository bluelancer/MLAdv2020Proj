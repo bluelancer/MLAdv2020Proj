{
 "cells": [
  {
   "cell_type": "code",
   "execution_count": 1,
   "metadata": {
    "collapsed": true
   },
   "outputs": [
    {
     "name": "stderr",
     "output_type": "stream",
     "text": [
      "Using backend: pytorch\n"
     ]
    }
   ],
   "source": [
    "import torch\n",
    "from NetMF import NetMF\n",
    "from Netmfutils import Netmfutils\n",
    "import scipy.io\n",
    "import numpy as np"
   ]
  },
  {
   "cell_type": "code",
   "execution_count": 2,
   "outputs": [],
   "source": [
    "if torch.cuda.is_available():\n",
    "        torch.cuda.set_device(0)\n",
    "\n",
    "import logging\n",
    "from cogdl.datasets import build_dataset\n",
    "logger = logging.getLogger(__name__)\n",
    "netutils = Netmfutils()"
   ],
   "metadata": {
    "collapsed": false,
    "pycharm": {
     "name": "#%%\n"
    }
   }
  },
  {
   "cell_type": "code",
   "execution_count": 3,
   "outputs": [],
   "source": [
    "Label_repo = \"dataset/blogcatalog.mat\"\n",
    "Embedding_repo = \"embeddings\"\n",
    "Rank = 128\n",
    "Dim = 128\n",
    "Window = 1\n",
    "Large_netmf = False\n",
    "Rand_Seed = 1\n",
    "Neg_sampling = 1\n",
    "\n",
    "Start_train_ratio = 10\n",
    "Stop_train_ratio = 90\n",
    "Num_train_ratio = 9\n",
    "C = 1\n",
    "Num_split = 10"
   ],
   "metadata": {
    "collapsed": false,
    "pycharm": {
     "name": "#%%\n"
    }
   }
  },
  {
   "cell_type": "code",
   "execution_count": 4,
   "outputs": [
    {
     "name": "stdout",
     "output_type": "stream",
     "text": [
      "<class 'networkx.classes.graph.Graph'>\n",
      "(10312, 39) <class 'numpy.ndarray'> 0 1\n"
     ]
    }
   ],
   "source": [
    "# load dataset from .mat\n",
    "# data = scipy.io.loadmat(Label_repo)\n",
    "data = netutils.load_graph(\"blogcatalog\")\n",
    "print (type(data))\n",
    "logger.info(\"Loading label from %s...\", Label_repo)\n",
    "label = netutils.load_label(file=Label_repo, variable_name=\"group\")\n",
    "logger.info(\"Label loaded!\")"
   ],
   "metadata": {
    "collapsed": false,
    "pycharm": {
     "name": "#%%\n"
    }
   }
  },
  {
   "cell_type": "code",
   "execution_count": 5,
   "outputs": [
    {
     "name": "stdout",
     "output_type": "stream",
     "text": [
      "Running NetMF for a small window size...\n",
      "Compute matrix %d-th power 1\n"
     ]
    }
   ],
   "source": [
    "netmf = NetMF(Dim,Window,Rank,Neg_sampling,Large_netmf)\n",
    "embedding = netmf.train(data,Graph_input = True)"
   ],
   "metadata": {
    "collapsed": false,
    "pycharm": {
     "name": "#%%\n"
    }
   }
  },
  {
   "cell_type": "code",
   "execution_count": null,
   "outputs": [
    {
     "name": "stdout",
     "output_type": "stream",
     "text": [
      "(1031,) (9281,)\n",
      "(1031,) (9281,)\n",
      "(1031,) (9281,)\n",
      "(1031,) (9281,)\n",
      "(1031,) (9281,)\n",
      "(1031,) (9281,)\n",
      "(1031,) (9281,)\n",
      "(1031,) (9281,)\n",
      "(1031,) (9281,)\n",
      "(1031,) (9281,)\n",
      "%d fold validation, training ratio %f 10 0.1\n",
      "Average micro %.2f, Average macro %.2f 14.789662915963742 3.5590689598121554\n",
      "(2062,) (8250,)\n",
      "(2062,) (8250,)\n",
      "(2062,) (8250,)\n",
      "(2062,) (8250,)\n",
      "(2062,) (8250,)\n",
      "(2062,) (8250,)\n",
      "(2062,) (8250,)\n",
      "(2062,) (8250,)\n",
      "(2062,) (8250,)\n",
      "(2062,) (8250,)\n",
      "%d fold validation, training ratio %f 10 0.2\n",
      "Average micro %.2f, Average macro %.2f 14.854124089295057 3.6726573293812943\n",
      "(3093,) (7219,)\n",
      "(3093,) (7219,)\n",
      "(3093,) (7219,)\n",
      "(3093,) (7219,)\n",
      "(3093,) (7219,)\n",
      "(3093,) (7219,)\n",
      "(3093,) (7219,)\n",
      "(3093,) (7219,)\n",
      "(3093,) (7219,)\n",
      "(3093,) (7219,)\n",
      "%d fold validation, training ratio %f 10 0.3\n",
      "Average micro %.2f, Average macro %.2f 15.042062702642259 3.6701007225636517\n",
      "(4124,) (6188,)\n",
      "(4124,) (6188,)\n",
      "(4124,) (6188,)\n",
      "(4124,) (6188,)\n",
      "(4124,) (6188,)\n",
      "(4124,) (6188,)\n",
      "(4124,) (6188,)\n",
      "(4124,) (6188,)\n",
      "(4124,) (6188,)\n",
      "(4124,) (6188,)\n",
      "%d fold validation, training ratio %f 10 0.4\n",
      "Average micro %.2f, Average macro %.2f 15.212267217970002 3.7373255869840043\n",
      "(5156,) (5156,)\n",
      "(5156,) (5156,)\n",
      "(5156,) (5156,)\n",
      "(5156,) (5156,)\n",
      "(5156,) (5156,)\n",
      "(5156,) (5156,)\n",
      "(5156,) (5156,)\n",
      "(5156,) (5156,)\n",
      "(5156,) (5156,)\n",
      "(5156,) (5156,)\n",
      "%d fold validation, training ratio %f 10 0.5\n",
      "Average micro %.2f, Average macro %.2f 15.321534400720852 3.712741205297533\n",
      "(6187,) (4125,)\n",
      "(6187,) (4125,)\n",
      "(6187,) (4125,)\n",
      "(6187,) (4125,)\n",
      "(6187,) (4125,)\n",
      "(6187,) (4125,)\n",
      "(6187,) (4125,)\n",
      "(6187,) (4125,)\n",
      "(6187,) (4125,)\n",
      "(6187,) (4125,)\n",
      "%d fold validation, training ratio %f 10 0.6\n",
      "Average micro %.2f, Average macro %.2f 15.434772464322382 3.7255455042482963\n",
      "(7218,) (3094,)\n",
      "(7218,) (3094,)\n",
      "(7218,) (3094,)\n",
      "(7218,) (3094,)\n",
      "(7218,) (3094,)\n",
      "(7218,) (3094,)\n",
      "(7218,) (3094,)\n",
      "(7218,) (3094,)\n",
      "(7218,) (3094,)\n",
      "(7218,) (3094,)\n",
      "%d fold validation, training ratio %f 10 0.7\n",
      "Average micro %.2f, Average macro %.2f 15.67718260852031 3.6891856577884763\n",
      "(8249,) (2063,)\n",
      "(8249,) (2063,)\n",
      "(8249,) (2063,)\n",
      "(8249,) (2063,)\n",
      "(8249,) (2063,)\n"
     ]
    },
    {
     "name": "stderr",
     "output_type": "stream",
     "text": [
      "/usr/local/lib/python3.8/site-packages/sklearn/metrics/_classification.py:1492: UndefinedMetricWarning: F-score is ill-defined and being set to 0.0 in labels with no true nor predicted samples. Use `zero_division` parameter to control this behavior.\n",
      "  _warn_prf(\n",
      "/usr/local/lib/python3.8/site-packages/sklearn/metrics/_classification.py:1492: UndefinedMetricWarning: F-score is ill-defined and being set to 0.0 in labels with no true nor predicted samples. Use `zero_division` parameter to control this behavior.\n",
      "  _warn_prf(\n",
      "/usr/local/lib/python3.8/site-packages/sklearn/metrics/_classification.py:1492: UndefinedMetricWarning: F-score is ill-defined and being set to 0.0 in labels with no true nor predicted samples. Use `zero_division` parameter to control this behavior.\n",
      "  _warn_prf(\n"
     ]
    }
   ],
   "source": [
    "train_ratios = np.linspace(Start_train_ratio,Stop_train_ratio,\n",
    "            Num_train_ratio)\n",
    "for tr in train_ratios:\n",
    "        netutils.node_classification_loss(embedding, label, train_ratio=tr/100.,\n",
    "                n_splits=Num_split, C=C, random_state=Rand_Seed)"
   ],
   "metadata": {
    "collapsed": false,
    "pycharm": {
     "name": "#%%\n",
     "is_executing": true
    }
   }
  }
 ],
 "metadata": {
  "kernelspec": {
   "name": "pycharm-4a14eed",
   "language": "python",
   "display_name": "PyCharm (MLAdv2020Proj)"
  },
  "language_info": {
   "codemirror_mode": {
    "name": "ipython",
    "version": 2
   },
   "file_extension": ".py",
   "mimetype": "text/x-python",
   "name": "python",
   "nbconvert_exporter": "python",
   "pygments_lexer": "ipython2",
   "version": "2.7.6"
  }
 },
 "nbformat": 4,
 "nbformat_minor": 0
}