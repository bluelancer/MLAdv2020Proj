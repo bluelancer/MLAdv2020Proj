{
 "cells": [
  {
   "cell_type": "code",
   "execution_count": 1,
   "metadata": {
    "collapsed": true
   },
   "outputs": [],
   "source": [
    "import torch\n",
    "from NetMF import NetMF\n",
    "from Netmfutils import Netmfutils\n",
    "import scipy.io\n",
    "import numpy as np"
   ]
  },
  {
   "cell_type": "code",
   "execution_count": 2,
   "outputs": [
    {
     "name": "stderr",
     "output_type": "stream",
     "text": [
      "Using backend: pytorch\n"
     ]
    }
   ],
   "source": [
    "if torch.cuda.is_available():\n",
    "        torch.cuda.set_device(0)\n",
    "\n",
    "import logging\n",
    "from cogdl.datasets import build_dataset\n",
    "logger = logging.getLogger(__name__)\n",
    "netutils = Netmfutils()"
   ],
   "metadata": {
    "collapsed": false,
    "pycharm": {
     "name": "#%%\n"
    }
   }
  },
  {
   "cell_type": "code",
   "execution_count": 3,
   "outputs": [],
   "source": [
    "Label_repo = \"dataset/blogcatalog.mat\"\n",
    "Embedding_repo = \"embeddings\"\n",
    "Rank = 128\n",
    "Dim = 128\n",
    "Window = 1\n",
    "Large_netmf = False\n",
    "Rand_Seed = 1\n",
    "Neg_sampling = 1\n",
    "\n",
    "Start_train_ratio = 10\n",
    "Stop_train_ratio = 90\n",
    "Num_train_ratio = 9\n",
    "C = 1\n",
    "Num_split = 10"
   ],
   "metadata": {
    "collapsed": false,
    "pycharm": {
     "name": "#%%\n"
    }
   }
  },
  {
   "cell_type": "code",
   "execution_count": 4,
   "outputs": [
    {
     "name": "stdout",
     "output_type": "stream",
     "text": [
      "<class 'scipy.sparse.csc.csc_matrix'>\n",
      "(10312, 39) <class 'numpy.ndarray'> 0 1\n"
     ]
    }
   ],
   "source": [
    "data = scipy.io.loadmat(Label_repo)\n",
    "print (type(data['network']))\n",
    "logger.info(\"Loading label from %s...\", Label_repo)\n",
    "label = netutils.load_label(file=Label_repo, variable_name=\"group\")\n",
    "logger.info(\"Label loaded!\")"
   ],
   "metadata": {
    "collapsed": false,
    "pycharm": {
     "name": "#%%\n"
    }
   }
  },
  {
   "cell_type": "code",
   "execution_count": 5,
   "outputs": [
    {
     "name": "stdout",
     "output_type": "stream",
     "text": [
      "Running NetMF for a small window size...\n",
      "Compute matrix %d-th power 1\n"
     ]
    }
   ],
   "source": [
    "netmf = NetMF(Dim,Window,Rank,Neg_sampling,Large_netmf)\n",
    "embedding = netmf.train(data['network'])"
   ],
   "metadata": {
    "collapsed": false,
    "pycharm": {
     "name": "#%%\n"
    }
   }
  },
  {
   "cell_type": "code",
   "execution_count": 6,
   "outputs": [
    {
     "name": "stdout",
     "output_type": "stream",
     "text": [
      "(1031,) (9281,)\n",
      "(1031,) (9281,)\n",
      "(1031,) (9281,)\n",
      "(1031,) (9281,)\n",
      "(1031,) (9281,)\n",
      "(1031,) (9281,)\n",
      "(1031,) (9281,)\n",
      "(1031,) (9281,)\n",
      "(1031,) (9281,)\n",
      "(1031,) (9281,)\n",
      "%d fold validation, training ratio %f 10 0.1\n",
      "Average micro %.2f, Average macro %.2f 32.918275631306756 14.587759929638116\n",
      "(2062,) (8250,)\n",
      "(2062,) (8250,)\n",
      "(2062,) (8250,)\n",
      "(2062,) (8250,)\n",
      "(2062,) (8250,)\n",
      "(2062,) (8250,)\n",
      "(2062,) (8250,)\n",
      "(2062,) (8250,)\n",
      "(2062,) (8250,)\n",
      "(2062,) (8250,)\n",
      "%d fold validation, training ratio %f 10 0.2\n",
      "Average micro %.2f, Average macro %.2f 35.211611107004174 17.110123504947566\n",
      "(3093,) (7219,)\n",
      "(3093,) (7219,)\n",
      "(3093,) (7219,)\n",
      "(3093,) (7219,)\n",
      "(3093,) (7219,)\n",
      "(3093,) (7219,)\n",
      "(3093,) (7219,)\n",
      "(3093,) (7219,)\n",
      "(3093,) (7219,)\n",
      "(3093,) (7219,)\n",
      "%d fold validation, training ratio %f 10 0.3\n",
      "Average micro %.2f, Average macro %.2f 36.37756577249311 18.46588138227881\n",
      "(4124,) (6188,)\n",
      "(4124,) (6188,)\n",
      "(4124,) (6188,)\n",
      "(4124,) (6188,)\n",
      "(4124,) (6188,)\n",
      "(4124,) (6188,)\n",
      "(4124,) (6188,)\n",
      "(4124,) (6188,)\n",
      "(4124,) (6188,)\n",
      "(4124,) (6188,)\n",
      "%d fold validation, training ratio %f 10 0.4\n",
      "Average micro %.2f, Average macro %.2f 37.27722321728505 19.377785036640653\n",
      "(5156,) (5156,)\n",
      "(5156,) (5156,)\n",
      "(5156,) (5156,)\n",
      "(5156,) (5156,)\n",
      "(5156,) (5156,)\n",
      "(5156,) (5156,)\n",
      "(5156,) (5156,)\n",
      "(5156,) (5156,)\n",
      "(5156,) (5156,)\n",
      "(5156,) (5156,)\n",
      "%d fold validation, training ratio %f 10 0.5\n",
      "Average micro %.2f, Average macro %.2f 37.71017415051882 19.981555175675606\n",
      "(6187,) (4125,)\n",
      "(6187,) (4125,)\n",
      "(6187,) (4125,)\n",
      "(6187,) (4125,)\n",
      "(6187,) (4125,)\n",
      "(6187,) (4125,)\n",
      "(6187,) (4125,)\n",
      "(6187,) (4125,)\n",
      "(6187,) (4125,)\n",
      "(6187,) (4125,)\n",
      "%d fold validation, training ratio %f 10 0.6\n",
      "Average micro %.2f, Average macro %.2f 38.149718116227305 20.354311187458162\n",
      "(7218,) (3094,)\n",
      "(7218,) (3094,)\n",
      "(7218,) (3094,)\n",
      "(7218,) (3094,)\n",
      "(7218,) (3094,)\n",
      "(7218,) (3094,)\n",
      "(7218,) (3094,)\n",
      "(7218,) (3094,)\n",
      "(7218,) (3094,)\n",
      "(7218,) (3094,)\n",
      "%d fold validation, training ratio %f 10 0.7\n",
      "Average micro %.2f, Average macro %.2f 38.50390386507076 20.689354394334465\n",
      "(8249,) (2063,)\n",
      "(8249,) (2063,)\n",
      "(8249,) (2063,)\n",
      "(8249,) (2063,)\n",
      "(8249,) (2063,)\n",
      "(8249,) (2063,)\n",
      "(8249,) (2063,)\n",
      "(8249,) (2063,)\n",
      "(8249,) (2063,)\n",
      "(8249,) (2063,)\n",
      "%d fold validation, training ratio %f 10 0.8\n",
      "Average micro %.2f, Average macro %.2f 38.39817105340019 20.64373330456451\n",
      "(9280,) (1032,)\n",
      "(9280,) (1032,)\n",
      "(9280,) (1032,)\n",
      "(9280,) (1032,)\n",
      "(9280,) (1032,)\n",
      "(9280,) (1032,)\n",
      "(9280,) (1032,)\n",
      "(9280,) (1032,)\n",
      "(9280,) (1032,)\n",
      "(9280,) (1032,)\n",
      "%d fold validation, training ratio %f 10 0.9\n",
      "Average micro %.2f, Average macro %.2f 38.23637799351431 20.547512871932057\n"
     ]
    },
    {
     "name": "stderr",
     "output_type": "stream",
     "text": [
      "/usr/local/lib/python3.8/site-packages/sklearn/metrics/_classification.py:1492: UndefinedMetricWarning: F-score is ill-defined and being set to 0.0 in labels with no true nor predicted samples. Use `zero_division` parameter to control this behavior.\n",
      "  _warn_prf(\n",
      "/usr/local/lib/python3.8/site-packages/sklearn/metrics/_classification.py:1492: UndefinedMetricWarning: F-score is ill-defined and being set to 0.0 in labels with no true nor predicted samples. Use `zero_division` parameter to control this behavior.\n",
      "  _warn_prf(\n",
      "/usr/local/lib/python3.8/site-packages/sklearn/metrics/_classification.py:1492: UndefinedMetricWarning: F-score is ill-defined and being set to 0.0 in labels with no true nor predicted samples. Use `zero_division` parameter to control this behavior.\n",
      "  _warn_prf(\n",
      "/usr/local/lib/python3.8/site-packages/sklearn/metrics/_classification.py:1492: UndefinedMetricWarning: F-score is ill-defined and being set to 0.0 in labels with no true nor predicted samples. Use `zero_division` parameter to control this behavior.\n",
      "  _warn_prf(\n",
      "/usr/local/lib/python3.8/site-packages/sklearn/metrics/_classification.py:1492: UndefinedMetricWarning: F-score is ill-defined and being set to 0.0 in labels with no true nor predicted samples. Use `zero_division` parameter to control this behavior.\n",
      "  _warn_prf(\n",
      "/usr/local/lib/python3.8/site-packages/sklearn/metrics/_classification.py:1492: UndefinedMetricWarning: F-score is ill-defined and being set to 0.0 in labels with no true nor predicted samples. Use `zero_division` parameter to control this behavior.\n",
      "  _warn_prf(\n",
      "/usr/local/lib/python3.8/site-packages/sklearn/metrics/_classification.py:1492: UndefinedMetricWarning: F-score is ill-defined and being set to 0.0 in labels with no true nor predicted samples. Use `zero_division` parameter to control this behavior.\n",
      "  _warn_prf(\n",
      "/usr/local/lib/python3.8/site-packages/sklearn/metrics/_classification.py:1492: UndefinedMetricWarning: F-score is ill-defined and being set to 0.0 in labels with no true nor predicted samples. Use `zero_division` parameter to control this behavior.\n",
      "  _warn_prf(\n",
      "/usr/local/lib/python3.8/site-packages/sklearn/metrics/_classification.py:1492: UndefinedMetricWarning: F-score is ill-defined and being set to 0.0 in labels with no true nor predicted samples. Use `zero_division` parameter to control this behavior.\n",
      "  _warn_prf(\n"
     ]
    }
   ],
   "source": [
    "train_ratios = np.linspace(Start_train_ratio,Stop_train_ratio,\n",
    "            Num_train_ratio)\n",
    "for tr in train_ratios:\n",
    "        netutils.node_classification_loss(embedding, label, train_ratio=tr/100.,\n",
    "                n_splits=Num_split, C=C, random_state=Rand_Seed)"
   ],
   "metadata": {
    "collapsed": false,
    "pycharm": {
     "name": "#%%\n"
    }
   }
  },
  {
   "cell_type": "code",
   "execution_count": null,
   "outputs": [],
   "source": [],
   "metadata": {
    "collapsed": false,
    "pycharm": {
     "name": "#%%\n"
    }
   }
  }
 ],
 "metadata": {
  "kernelspec": {
   "name": "pycharm-4a14eed",
   "language": "python",
   "display_name": "PyCharm (MLAdv2020Proj)"
  },
  "language_info": {
   "codemirror_mode": {
    "name": "ipython",
    "version": 2
   },
   "file_extension": ".py",
   "mimetype": "text/x-python",
   "name": "python",
   "nbconvert_exporter": "python",
   "pygments_lexer": "ipython2",
   "version": "2.7.6"
  }
 },
 "nbformat": 4,
 "nbformat_minor": 0
}