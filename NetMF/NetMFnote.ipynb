{
 "cells": [
  {
   "cell_type": "code",
   "execution_count": 1,
   "metadata": {
    "collapsed": true
   },
   "outputs": [
    {
     "name": "stderr",
     "output_type": "stream",
     "text": [
      "Using backend: pytorch\n"
     ]
    }
   ],
   "source": [
    "import torch\n",
    "from NetMF import NetMF\n",
    "from Netmfutils import Netmfutils\n",
    "import scipy.io\n",
    "import numpy as np\n",
    "import networkx as nx\n",
    "import cogdl.datasets as cd\n",
    "import scipy.sparse as sp"
   ]
  },
  {
   "cell_type": "code",
   "execution_count": 2,
   "outputs": [],
   "source": [
    "if torch.cuda.is_available():\n",
    "        torch.cuda.set_device(0)\n",
    "\n",
    "import logging\n",
    "from cogdl.datasets import build_dataset\n",
    "logger = logging.getLogger(__name__)\n",
    "netutils = Netmfutils()"
   ],
   "metadata": {
    "collapsed": false,
    "pycharm": {
     "name": "#%%\n"
    }
   }
  },
  {
   "cell_type": "code",
   "execution_count": 9,
   "outputs": [],
   "source": [
    "Label_repo = \"dataset/blogcatalog.mat\"\n",
    "Rank = 128\n",
    "Dim = 128\n",
    "Window = 1\n",
    "Large_netmf = False\n",
    "Rand_Seed = 1\n",
    "Neg_sampling = 1\n",
    "\n",
    "Start_train_ratio = 10\n",
    "Stop_train_ratio = 90\n",
    "Num_train_ratio = 9\n",
    "C = 1\n",
    "Num_split = 5\n",
    "Train_ratio = 80"
   ],
   "metadata": {
    "collapsed": false,
    "pycharm": {
     "name": "#%%\n"
    }
   }
  },
  {
   "cell_type": "code",
   "execution_count": 10,
   "outputs": [
    {
     "name": "stdout",
     "output_type": "stream",
     "text": [
      "(10312, 39)\n"
     ]
    }
   ],
   "source": [
    "\"\"\"\n",
    "# load dataset from .mat\n",
    "data = scipy.io.loadmat(Label_repo)\n",
    "logger.info(\"Loading label from %s...\", Label_repo)\n",
    "# load label from .mat\n",
    "label = netutils.load_label(file=Label_repo, variable_name=\"group\")\n",
    "logger.info(\"Label loaded!\")\n",
    "\"\"\"\n",
    "dataset = cd.build_dataset_from_name('blogcatalog')\n",
    "data = dataset[0]\n",
    "G = nx.Graph()\n",
    "G.add_edges_from(data.edge_index.t().tolist())\n",
    "label_matrix = sp.csr_matrix(data.y).toarray().astype(np.int)\n",
    "print (label_matrix.shape)"
   ],
   "metadata": {
    "collapsed": false,
    "pycharm": {
     "name": "#%%\n"
    }
   }
  },
  {
   "cell_type": "code",
   "execution_count": 11,
   "outputs": [
    {
     "name": "stdout",
     "output_type": "stream",
     "text": [
      "Running NetMF for a small window size...\n",
      "Compute matrix %d-th power 1\n",
      "(8249,) (2063,)\n",
      "(10312, 128) (10312, 39)\n",
      "(8249,) (2063,)\n",
      "(10312, 128) (10312, 39)\n",
      "(8249,) (2063,)\n",
      "(10312, 128) (10312, 39)\n",
      "(8249,) (2063,)\n",
      "(10312, 128) (10312, 39)\n",
      "(8249,) (2063,)\n",
      "(10312, 128) (10312, 39)\n",
      "%d fold validation, training ratio %f 5 0.8\n",
      "Average micro %.2f, Average macro %.2f 16.11835444614371 3.7641255944232137\n"
     ]
    },
    {
     "name": "stderr",
     "output_type": "stream",
     "text": [
      "/usr/local/lib/python3.8/site-packages/sklearn/metrics/_classification.py:1492: UndefinedMetricWarning: F-score is ill-defined and being set to 0.0 in labels with no true nor predicted samples. Use `zero_division` parameter to control this behavior.\n",
      "  _warn_prf(\n"
     ]
    },
    {
     "data": {
      "text/plain": "([0.16562282533054976,\n  0.1752400548696845,\n  0.15809327846364885,\n  0.15690946221919674,\n  0.1500521014241056],\n [0.036844834191508975,\n  0.04554122560311246,\n  0.03861440924442194,\n  0.03593888096285791,\n  0.031266929719259366])"
     },
     "execution_count": 11,
     "metadata": {},
     "output_type": "execute_result"
    }
   ],
   "source": [
    "netmf = NetMF(Dim,Window,Rank,Neg_sampling,Large_netmf)\n",
    "embedding = netmf.train(G,Graph_input = True)\n",
    "netutils.node_classification_loss(embedding, label_matrix, train_ratio=Train_ratio/100.,\n",
    "                                  n_splits=Num_split, C=C, random_state=Rand_Seed)\n"
   ],
   "metadata": {
    "collapsed": false,
    "pycharm": {
     "name": "#%%\n"
    }
   }
  }
 ],
 "metadata": {
  "kernelspec": {
   "name": "pycharm-4a14eed",
   "language": "python",
   "display_name": "PyCharm (MLAdv2020Proj)"
  },
  "language_info": {
   "codemirror_mode": {
    "name": "ipython",
    "version": 2
   },
   "file_extension": ".py",
   "mimetype": "text/x-python",
   "name": "python",
   "nbconvert_exporter": "python",
   "pygments_lexer": "ipython2",
   "version": "2.7.6"
  }
 },
 "nbformat": 4,
 "nbformat_minor": 0
}