{
 "cells": [
  {
   "cell_type": "code",
   "execution_count": 7,
   "metadata": {
    "collapsed": true
   },
   "outputs": [],
   "source": [
    "import torch\n",
    "from NetMF import NetMF\n",
    "from Netmfutils import Netmfutils\n",
    "import scipy.io\n",
    "import numpy as np"
   ]
  },
  {
   "cell_type": "code",
   "execution_count": 8,
   "outputs": [],
   "source": [
    "if torch.cuda.is_available():\n",
    "        torch.cuda.set_device(0)\n",
    "\n",
    "import logging\n",
    "from cogdl.datasets import build_dataset\n",
    "logger = logging.getLogger(__name__)\n",
    "netutils = Netmfutils()"
   ],
   "metadata": {
    "collapsed": false,
    "pycharm": {
     "name": "#%%\n"
    }
   }
  },
  {
   "cell_type": "code",
   "execution_count": 9,
   "outputs": [],
   "source": [
    "Label_repo = \"dataset/blogcatalog.mat\"\n",
    "Embedding_repo = \"embeddings\"\n",
    "Rank = 128\n",
    "Dim = 128\n",
    "Window = 1\n",
    "Large_netmf = False\n",
    "Rand_Seed = 1\n",
    "Neg_sampling = 1\n",
    "\n",
    "Start_train_ratio = 10\n",
    "Stop_train_ratio = 90\n",
    "Num_train_ratio = 9\n",
    "C = 1\n",
    "Num_split = 10"
   ],
   "metadata": {
    "collapsed": false,
    "pycharm": {
     "name": "#%%\n"
    }
   }
  },
  {
   "cell_type": "code",
   "execution_count": 10,
   "outputs": [
    {
     "name": "stdout",
     "output_type": "stream",
     "text": [
      "<class 'scipy.sparse.csc.csc_matrix'>\n",
      "(10312, 39) <class 'numpy.ndarray'> 0 1\n"
     ]
    }
   ],
   "source": [
    "data = scipy.io.loadmat(Label_repo)\n",
    "print (type(data['network']))\n",
    "logger.info(\"Loading label from %s...\", Label_repo)\n",
    "label = netutils.load_label(file=Label_repo, variable_name=\"group\")\n",
    "logger.info(\"Label loaded!\")"
   ],
   "metadata": {
    "collapsed": false,
    "pycharm": {
     "name": "#%%\n"
    }
   }
  },
  {
   "cell_type": "code",
   "execution_count": 11,
   "outputs": [
    {
     "name": "stdout",
     "output_type": "stream",
     "text": [
      "Running NetMF for a small window size...\n",
      "Compute matrix %d-th power 1\n"
     ]
    }
   ],
   "source": [
    "netmf = NetMF(Dim,Window,Rank,Neg_sampling,Large_netmf)\n",
    "embedding = netmf.train(data['network'])"
   ],
   "metadata": {
    "collapsed": false,
    "pycharm": {
     "name": "#%%\n"
    }
   }
  },
  {
   "cell_type": "code",
   "execution_count": null,
   "outputs": [
    {
     "name": "stdout",
     "output_type": "stream",
     "text": [
      "(1031,) (9281,)\n",
      "(1031,) (9281,)\n",
      "(1031,) (9281,)\n",
      "(1031,) (9281,)\n",
      "(1031,) (9281,)\n",
      "(1031,) (9281,)\n",
      "(1031,) (9281,)\n",
      "(1031,) (9281,)\n",
      "(1031,) (9281,)\n",
      "(1031,) (9281,)\n",
      "%d fold validation, training ratio %f 10 0.1\n",
      "Average micro %.2f, Average macro %.2f 32.918275631306756 14.587759929638116\n",
      "(2062,) (8250,)\n",
      "(2062,) (8250,)\n",
      "(2062,) (8250,)\n",
      "(2062,) (8250,)\n",
      "(2062,) (8250,)\n",
      "(2062,) (8250,)\n",
      "(2062,) (8250,)\n",
      "(2062,) (8250,)\n",
      "(2062,) (8250,)\n"
     ]
    }
   ],
   "source": [
    "train_ratios = np.linspace(Start_train_ratio,Stop_train_ratio,\n",
    "            Num_train_ratio)\n",
    "for tr in train_ratios:\n",
    "        netutils.node_classification_loss(embedding, label, train_ratio=tr/100.,\n",
    "                n_splits=Num_split, C=C, random_state=Rand_Seed)"
   ],
   "metadata": {
    "collapsed": false,
    "pycharm": {
     "name": "#%%\n",
     "is_executing": true
    }
   }
  },
  {
   "cell_type": "code",
   "execution_count": null,
   "outputs": [],
   "source": [],
   "metadata": {
    "collapsed": false,
    "pycharm": {
     "name": "#%%\n",
     "is_executing": true
    }
   }
  }
 ],
 "metadata": {
  "kernelspec": {
   "name": "pycharm-4a14eed",
   "language": "python",
   "display_name": "PyCharm (MLAdv2020Proj)"
  },
  "language_info": {
   "codemirror_mode": {
    "name": "ipython",
    "version": 2
   },
   "file_extension": ".py",
   "mimetype": "text/x-python",
   "name": "python",
   "nbconvert_exporter": "python",
   "pygments_lexer": "ipython2",
   "version": "2.7.6"
  }
 },
 "nbformat": 4,
 "nbformat_minor": 0
}